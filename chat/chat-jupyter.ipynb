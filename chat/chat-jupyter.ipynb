{
 "cells": [
  {
   "cell_type": "code",
   "execution_count": 1,
   "id": "f98cfcf8-f2db-463a-a7cf-e01dc12dcf94",
   "metadata": {},
   "outputs": [],
   "source": [
    "%load_ext dotenv\n",
    "%dotenv"
   ]
  },
  {
   "cell_type": "code",
   "execution_count": 2,
   "id": "cd1674e4-1a45-4f0f-8f77-a910914afe8d",
   "metadata": {
    "scrolled": true
   },
   "outputs": [],
   "source": [
    "# !pip install --upgrade langchain langchain-community langchain-google-genai \n",
    "# !pip install -U langchain-groq"
   ]
  },
  {
   "cell_type": "code",
   "execution_count": 3,
   "id": "d9d7c154-65f5-48ca-b6c3-a80245dba173",
   "metadata": {},
   "outputs": [],
   "source": [
    "from ipywidgets import widgets, interact, interactive, Layout\n",
    "from IPython.display import display, Markdown\n",
    "import os\n",
    "from langchain_google_genai import GoogleGenerativeAI\n",
    "from langchain_groq import ChatGroq  \n",
    "from langchain.memory import ConversationBufferMemory\n",
    "from langchain.chains import ConversationChain"
   ]
  },
  {
   "cell_type": "code",
   "execution_count": 14,
   "id": "2337c762-909d-446a-8d63-acd11b99bec9",
   "metadata": {},
   "outputs": [
    {
     "data": {
      "application/vnd.jupyter.widget-view+json": {
       "model_id": "9115f57d681840d99b04b66f0c98886f",
       "version_major": 2,
       "version_minor": 0
      },
      "text/plain": [
       "VBox(children=(Output(layout=Layout(border_bottom='1px solid black', border_left='1px solid black', border_rig…"
      ]
     },
     "metadata": {},
     "output_type": "display_data"
    }
   ],
   "source": [
    "class LLMProvider:\n",
    "    def __init__(self, provider: str, model: str):\n",
    "        \"\"\"\n",
    "        Initialize the LLMProvider class.\n",
    "\n",
    "        Args:\n",
    "            provider (str): The provider of the LLM.\n",
    "            model (str): The model of the LLM.\n",
    "        \"\"\"\n",
    "        self.provider = provider\n",
    "        self.model = model\n",
    "\n",
    "    def initialize_llm(self) -> object:\n",
    "        \"\"\"\n",
    "        Initialize the LLM.\n",
    "\n",
    "        Returns:\n",
    "            object: The initialized LLM.\n",
    "        \"\"\"\n",
    "        try:\n",
    "            if self.provider == \"google\":\n",
    "                return GoogleGenerativeAI(model=self.model)\n",
    "            elif self.provider == \"groq\":\n",
    "                return ChatGroq(model=self.model)\n",
    "            else:\n",
    "                raise ValueError(\"Unsupported LLM provider\")\n",
    "        except Exception as e:\n",
    "            print(f\"Error initializing LLM: {e}\")\n",
    "            return None\n",
    "\n",
    "class LLMAPI:\n",
    "    def __init__(self, provider: str, model: str):\n",
    "        \"\"\"\n",
    "        Initialize the LLMAPI class.\n",
    "\n",
    "        Args:\n",
    "            provider (str): The provider of the LLM.\n",
    "            model (str): The model of the LLM.\n",
    "            api_key (str): The API key for the LLM.\n",
    "        \"\"\"\n",
    "        self.provider = LLMProvider(provider, model)\n",
    "        self.llm = self.provider.initialize_llm()\n",
    "        self.memory = ConversationBufferMemory(memory_key=\"history\", return_messages=True)\n",
    "        self.conversation_chain = ConversationChain(llm=self.llm, memory=self.memory)\n",
    "\n",
    "    def get_response(self, user_message: str) -> str:\n",
    "        \"\"\"\n",
    "        Get the response from the LLM.\n",
    "\n",
    "        Args:\n",
    "            user_message (str): The user's message.\n",
    "\n",
    "        Returns:\n",
    "            str: The response from the LLM.\n",
    "        \"\"\"\n",
    "        try:\n",
    "            response = self.conversation_chain.invoke(input=user_message)\n",
    "            return response['response'].strip()\n",
    "        except Exception as e:\n",
    "            print(f\"Error getting response: {e}\")\n",
    "            return \"\"\n",
    "\n",
    "\n",
    "# Initialize the LLM API\n",
    "llm_api = LLMAPI(provider=\"groq\", model=\"llama-3.1-70b-versatile\")\n",
    "\n",
    "# Create the chat area\n",
    "chat_area = widgets.Output(layout={'border': '1px solid black', 'height': '300px', 'overflow': 'auto'})\n",
    "\n",
    "# Create the input field with a larger layout\n",
    "input_field = widgets.Textarea(placeholder='Type your message here...',\n",
    "                              layout=Layout(width='100%', height='80px'))\n",
    "\n",
    "# Create the send button\n",
    "send_button = widgets.Button(description='Send')\n",
    "\n",
    "# Arrange the widgets in a layout\n",
    "layout = widgets.VBox([chat_area, widgets.HBox([input_field, send_button])])\n",
    "\n",
    "def send_message(sender):\n",
    "    user_message = input_field.value\n",
    "    input_field.value = ''\n",
    "    \n",
    "    with chat_area:\n",
    "        msg = f'**You:** {user_message}'\n",
    "        display(Markdown(msg))\n",
    "    \n",
    "    agent_response = llm_api.get_response(user_message)\n",
    "    \n",
    "    with chat_area:\n",
    "        msg = f'**Agent:** {agent_response}'\n",
    "        display(Markdown(msg))\n",
    "\n",
    "send_button.on_click(send_message)\n",
    "\n",
    "display(layout)"
   ]
  }
 ],
 "metadata": {
  "kernelspec": {
   "display_name": "Python 3 (ipykernel)",
   "language": "python",
   "name": "python3"
  },
  "language_info": {
   "codemirror_mode": {
    "name": "ipython",
    "version": 3
   },
   "file_extension": ".py",
   "mimetype": "text/x-python",
   "name": "python",
   "nbconvert_exporter": "python",
   "pygments_lexer": "ipython3",
   "version": "3.11.4"
  }
 },
 "nbformat": 4,
 "nbformat_minor": 5
}
