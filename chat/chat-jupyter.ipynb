{
 "cells": [
  {
   "cell_type": "code",
   "execution_count": 1,
   "id": "f98cfcf8-f2db-463a-a7cf-e01dc12dcf94",
   "metadata": {},
   "outputs": [],
   "source": [
    "%load_ext dotenv\n",
    "%dotenv"
   ]
  },
  {
   "cell_type": "code",
   "execution_count": 2,
   "id": "cd1674e4-1a45-4f0f-8f77-a910914afe8d",
   "metadata": {},
   "outputs": [],
   "source": [
    "# !pip install --upgrade langchain langchain-community langchain-google-genai\n",
    "# !pip install markdown"
   ]
  },
  {
   "cell_type": "code",
   "execution_count": 3,
   "id": "d9d7c154-65f5-48ca-b6c3-a80245dba173",
   "metadata": {},
   "outputs": [],
   "source": [
    "from ipywidgets import widgets, interact, interactive, Layout\n",
    "from IPython.display import display\n",
    "import os\n",
    "from langchain_google_genai import GoogleGenerativeAI\n",
    "from langchain.memory import ConversationBufferMemory\n",
    "from langchain.chains import ConversationChain\n",
    "import markdown"
   ]
  },
  {
   "cell_type": "code",
   "execution_count": 4,
   "id": "d5c5f126-d060-4264-8079-069f5eda2b6e",
   "metadata": {},
   "outputs": [
    {
     "name": "stderr",
     "output_type": "stream",
     "text": [
      "/home/rajesh/Desktop/repos/experimental/lib/python3.11/site-packages/langchain_core/_api/deprecation.py:141: LangChainDeprecationWarning: The class `ConversationChain` was deprecated in LangChain 0.2.7 and will be removed in 1.0. Use RunnableWithMessageHistory: https://api.python.langchain.com/en/latest/runnables/langchain_core.runnables.history.RunnableWithMessageHistory.html instead.\n",
      "  warn_deprecated(\n"
     ]
    }
   ],
   "source": [
    "# Initialize the GoogleGenerativeAI model\n",
    "llm = GoogleGenerativeAI(model=\"gemini-1.5-flash\", google_api_key=os.getenv(\"GOOGLE_API_KEY\"))\n",
    "\n",
    "# Initialize memory to retain conversation history\n",
    "memory = ConversationBufferMemory(memory_key=\"history\", return_messages=True)\n",
    "\n",
    "# Create a conversation chain with the model and memory\n",
    "conversation_chain = ConversationChain(llm=llm, memory=memory)\n",
    "\n",
    "# Create the chat area\n",
    "chat_area = widgets.Output(layout={'border': '1px solid black', 'height': '300px', 'overflow': 'auto'})\n",
    "\n",
    "# Create the input field with a larger layout\n",
    "input_field = widgets.Textarea(placeholder='Type your message here...',\n",
    "                              layout=Layout(width='100%', height='80px'))\n",
    "\n",
    "# Create the send button\n",
    "send_button = widgets.Button(description='Send')\n",
    "\n",
    "# Arrange the widgets in a layout\n",
    "layout = widgets.VBox([chat_area, widgets.HBox([input_field, send_button])])\n",
    "\n",
    "def send_message(sender):\n",
    "    user_message = input_field.value\n",
    "    input_field.value = ''\n",
    "    \n",
    "    with chat_area:\n",
    "        user_html = markdown.markdown(f'**You:** {user_message}')\n",
    "        display(widgets.HTML(user_html))\n",
    "    \n",
    "    # Get the model's response using invoke\n",
    "    response = conversation_chain.invoke(input=user_message)\n",
    "    \n",
    "    # Extract the relevant response from the output\n",
    "    agent_response = response['response'].strip()\n",
    "    \n",
    "    with chat_area:\n",
    "        agent_html = markdown.markdown(f'**Agent:** {agent_response}')\n",
    "        display(widgets.HTML(agent_html))"
   ]
  },
  {
   "cell_type": "code",
   "execution_count": 5,
   "id": "995448b7-6468-470c-8592-36c3e4449d39",
   "metadata": {},
   "outputs": [
    {
     "data": {
      "application/vnd.jupyter.widget-view+json": {
       "model_id": "aaa4b96e770f46b0afb2c5a6ba42cdd3",
       "version_major": 2,
       "version_minor": 0
      },
      "text/plain": [
       "VBox(children=(Output(layout=Layout(border_bottom='1px solid black', border_left='1px solid black', border_rig…"
      ]
     },
     "metadata": {},
     "output_type": "display_data"
    }
   ],
   "source": [
    "send_button.on_click(send_message)\n",
    "\n",
    "display(layout)"
   ]
  },
  {
   "cell_type": "code",
   "execution_count": null,
   "id": "eaeb6e96-f487-4cd9-860d-711740da0d09",
   "metadata": {},
   "outputs": [],
   "source": []
  }
 ],
 "metadata": {
  "kernelspec": {
   "display_name": "Python 3 (ipykernel)",
   "language": "python",
   "name": "python3"
  },
  "language_info": {
   "codemirror_mode": {
    "name": "ipython",
    "version": 3
   },
   "file_extension": ".py",
   "mimetype": "text/x-python",
   "name": "python",
   "nbconvert_exporter": "python",
   "pygments_lexer": "ipython3",
   "version": "3.11.4"
  }
 },
 "nbformat": 4,
 "nbformat_minor": 5
}
