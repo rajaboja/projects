{
 "cells": [
  {
   "cell_type": "code",
   "execution_count": 1,
   "id": "f98cfcf8-f2db-463a-a7cf-e01dc12dcf94",
   "metadata": {},
   "outputs": [],
   "source": [
    "%load_ext dotenv\n",
    "%dotenv"
   ]
  },
  {
   "cell_type": "code",
   "execution_count": 2,
   "id": "cd1674e4-1a45-4f0f-8f77-a910914afe8d",
   "metadata": {
    "scrolled": true
   },
   "outputs": [],
   "source": [
    "# !pip install --upgrade langchain langchain-community langchain-google-genai \n",
    "# !pip install -U langchain-groq"
   ]
  },
  {
   "cell_type": "code",
   "execution_count": 3,
   "id": "d9d7c154-65f5-48ca-b6c3-a80245dba173",
   "metadata": {},
   "outputs": [],
   "source": [
    "from ipywidgets import widgets, interact, interactive, Layout\n",
    "from IPython.display import display, Markdown\n",
    "import os\n",
    "from langchain_google_genai import GoogleGenerativeAI\n",
    "from langchain_groq import ChatGroq  \n",
    "from langchain.memory import ConversationBufferMemory\n",
    "from langchain.chains import ConversationChain"
   ]
  },
  {
   "cell_type": "code",
   "execution_count": 4,
   "id": "c3548ba1-138d-44f8-810c-4a903ed52660",
   "metadata": {},
   "outputs": [
    {
     "name": "stderr",
     "output_type": "stream",
     "text": [
      "/home/rajesh/Desktop/repos/experimental/lib/python3.11/site-packages/langchain_core/_api/deprecation.py:141: LangChainDeprecationWarning: The class `ConversationChain` was deprecated in LangChain 0.2.7 and will be removed in 1.0. Use RunnableWithMessageHistory: https://api.python.langchain.com/en/latest/runnables/langchain_core.runnables.history.RunnableWithMessageHistory.html instead.\n",
      "  warn_deprecated(\n"
     ]
    },
    {
     "data": {
      "application/vnd.jupyter.widget-view+json": {
       "model_id": "04fd983528df40fa894ee9c6e72b10b9",
       "version_major": 2,
       "version_minor": 0
      },
      "text/plain": [
       "VBox(children=(Output(layout=Layout(border_bottom='1px solid black', border_left='1px solid black', border_rig…"
      ]
     },
     "metadata": {},
     "output_type": "display_data"
    }
   ],
   "source": [
    "class LLMAPI:\n",
    "    def __init__(self, provider=\"google\", model=\"gemini-1.5-flash\", api_key=None):\n",
    "        self.provider = provider\n",
    "        self.model = model\n",
    "        self.api_key = api_key or os.getenv(\"GOOGLE_API_KEY\")\n",
    "        self.llm = self.initialize_llm()\n",
    "\n",
    "    def initialize_llm(self):\n",
    "        if self.provider == \"google\":\n",
    "            return GoogleGenerativeAI(model=self.model, google_api_key=self.api_key)\n",
    "        elif self.provider == \"groq\":\n",
    "            return ChatGroq(model=self.model, api_key=self.api_key)\n",
    "        else:\n",
    "            raise ValueError(\"Unsupported LLM provider\")\n",
    "\n",
    "    def get_response(self, user_message):\n",
    "        response = conversation_chain.invoke(input=user_message)\n",
    "        return response['response'].strip()\n",
    "\n",
    "# Initialize the LLM API\n",
    "llm_api = LLMAPI(provider=\"groq\", model=\"llama-3.1-70b-versatile\", api_key=os.getenv(\"GROQ_API_KEY\"))\n",
    "\n",
    "# Initialize memory to retain conversation history\n",
    "memory = ConversationBufferMemory(memory_key=\"history\", return_messages=True)\n",
    "\n",
    "# Create a conversation chain with the model and memory\n",
    "conversation_chain = ConversationChain(llm=llm_api.llm, memory=memory)\n",
    "\n",
    "# Create the chat area\n",
    "chat_area = widgets.Output(layout={'border': '1px solid black', 'height': '300px', 'overflow': 'auto'})\n",
    "\n",
    "# Create the input field with a larger layout\n",
    "input_field = widgets.Textarea(placeholder='Type your message here...',\n",
    "                              layout=Layout(width='100%', height='80px'))\n",
    "\n",
    "# Create the send button\n",
    "send_button = widgets.Button(description='Send')\n",
    "\n",
    "# Arrange the widgets in a layout\n",
    "layout = widgets.VBox([chat_area, widgets.HBox([input_field, send_button])])\n",
    "\n",
    "def send_message(sender):\n",
    "    user_message = input_field.value\n",
    "    input_field.value = ''\n",
    "    \n",
    "    with chat_area:\n",
    "        # user_html = markdown2.markdown(f'**You:** {user_message}')\n",
    "        user_html = f'**You:** {user_message}'\n",
    "        display(Markdown(user_html))\n",
    "    \n",
    "    # Get the model's response\n",
    "    agent_response = llm_api.get_response(user_message)\n",
    "    \n",
    "    with chat_area:\n",
    "        # agent_html = markdown2.markdown(f'**Agent:** {agent_response}')\n",
    "        agent_html = f'**Agent:** {agent_response}'\n",
    "        display(Markdown(agent_html))\n",
    "\n",
    "send_button.on_click(send_message)\n",
    "\n",
    "display(layout)"
   ]
  }
 ],
 "metadata": {
  "kernelspec": {
   "display_name": "Python 3 (ipykernel)",
   "language": "python",
   "name": "python3"
  },
  "language_info": {
   "codemirror_mode": {
    "name": "ipython",
    "version": 3
   },
   "file_extension": ".py",
   "mimetype": "text/x-python",
   "name": "python",
   "nbconvert_exporter": "python",
   "pygments_lexer": "ipython3",
   "version": "3.11.4"
  }
 },
 "nbformat": 4,
 "nbformat_minor": 5
}
